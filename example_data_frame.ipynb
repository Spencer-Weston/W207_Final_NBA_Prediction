{
 "cells": [
  {
   "cell_type": "code",
   "execution_count": 2,
   "id": "f774e347-b813-400e-8118-38cf1abd3ae7",
   "metadata": {},
   "outputs": [],
   "source": [
    "import pandas as pd\n",
    "import numpy as np"
   ]
  },
  {
   "cell_type": "markdown",
   "id": "743a7ae9-7cea-4508-ac4d-14eb4010f4d0",
   "metadata": {},
   "source": [
    "https://www.nba.com/news/teams-allowed-to-carry-15-players-on-active-roster-for-2020-21-season\n",
    "It's standard to have 15 players on the roster while 13 are \"active\". Active means they are allowed to play. For most of the seasons in our dataset, there will be a maximum of 13 players per team per game. Therefore, we will have 13 home player columns and 13 away player columns. "
   ]
  },
  {
   "cell_type": "code",
   "execution_count": null,
   "id": "d4d7ada6-596e-4bc4-9a9e-b7d752b6fa0e",
   "metadata": {},
   "outputs": [],
   "source": [
    "num_samples = 100\n",
    "example_dict = {\"outcome\": np.random.randint(-20, 20, num_samples)}\n",
    "home_player_dict = {f\"h_player_{i}\": [np.random.normal()]}"
   ]
  }
 ],
 "metadata": {
  "kernelspec": {
   "display_name": "Python 3",
   "language": "python",
   "name": "python3"
  },
  "language_info": {
   "codemirror_mode": {
    "name": "ipython",
    "version": 3
   },
   "file_extension": ".py",
   "mimetype": "text/x-python",
   "name": "python",
   "nbconvert_exporter": "python",
   "pygments_lexer": "ipython3",
   "version": "3.8.8"
  }
 },
 "nbformat": 4,
 "nbformat_minor": 5
}
