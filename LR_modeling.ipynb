{
 "cells": [
  {
   "cell_type": "code",
   "execution_count": 1,
   "metadata": {},
   "outputs": [],
   "source": [
    "# This tells matplotlib not to try opening a new window for each plot.\n",
    "%matplotlib inline\n",
    "\n",
    "# General libraries.\n",
    "import re\n",
    "import numpy as np\n",
    "import pandas as pd\n",
    "import matplotlib.pyplot as plt\n",
    "from matplotlib import pyplot\n",
    "\n",
    "from numpy import arange\n",
    "# SK-learn libraries for learning.\n",
    "from sklearn.pipeline import Pipeline\n",
    "from sklearn.model_selection import train_test_split\n",
    "from sklearn.neighbors import KNeighborsClassifier\n",
    "from sklearn.linear_model import LogisticRegression\n",
    "from sklearn.linear_model import LinearRegression\n",
    "from sklearn.naive_bayes import BernoulliNB\n",
    "from sklearn.naive_bayes import MultinomialNB\n",
    "from sklearn.decomposition import PCA\n",
    "from sklearn.tree import DecisionTreeRegressor \n",
    "from sklearn.model_selection import GridSearchCV\n",
    "from sklearn.model_selection import RepeatedKFold\n",
    "from sklearn.linear_model import ElasticNet\n",
    "from sklearn import preprocessing\n",
    "\n",
    "# SK-learn libraries for evaluation.\n",
    "from sklearn.metrics import confusion_matrix\n",
    "from sklearn import metrics\n",
    "from sklearn.metrics import classification_report\n",
    "from sklearn.metrics import mean_squared_error as mse\n",
    "from sklearn.linear_model import Ridge\n",
    "from sklearn.linear_model import Lasso\n",
    "from pandas import Series\n",
    "from sklearn.metrics import mean_squared_error as mse\n",
    "from sklearn.metrics import f1_score\n",
    "from sklearn.metrics import accuracy_score\n",
    "from sklearn.metrics import r2_score\n",
    "from sklearn.model_selection import cross_val_score\n",
    "\n",
    "import sqlite3\n",
    "import seaborn as sns\n",
    "#import plotly.express as px\n",
    "\n",
    "pd.options.display.max_rows = 4000\n",
    "\n",
    "#from pandasql import sqldf"
   ]
  },
  {
   "cell_type": "code",
   "execution_count": 2,
   "metadata": {},
   "outputs": [],
   "source": [
    "def model_evaluation(y_pred, y_actual):\n",
    "    \"\"\"\n",
    "    returns evaluation metrics for the model:\n",
    "    Accuracy, F1 Score, R Squre, RMSe\n",
    "    \"\"\"\n",
    "    acc = 0\n",
    "    f1score = 0\n",
    "    rmse = 0\n",
    "    r_sqaure = 0\n",
    "    \n",
    "    if len(y_pred) != len(y_actual):\n",
    "        print('predicted and actual length not equal')\n",
    "        \n",
    "    else:\n",
    "        len_y = len(y_pred)\n",
    "        \n",
    "        y_pred_bool =  y_pred >= 0\n",
    "        y_actual_bool =  y_actual >= 0\n",
    "        f1score = f1_score(y_actual_bool, y_pred_bool, average='binary')\n",
    "        acc = accuracy_score(y_actual_bool, y_pred_bool)\n",
    "        \n",
    "        rmse = np.sqrt(mse(y_actual, y_pred))\n",
    "        r_sqaure = r2_score(y_actual, y_pred)\n",
    "        \n",
    "    df_evaluation = pd.DataFrame({'Accuracy': pd.Series(acc),\n",
    "                                 'F1 Score': pd.Series(f1score),\n",
    "                                 'R Square': pd.Series(r_sqaure),\n",
    "                                 'RMSE': pd.Series(rmse)})\n",
    "    return(df_evaluation)"
   ]
  },
  {
   "cell_type": "code",
   "execution_count": 3,
   "metadata": {},
   "outputs": [],
   "source": [
    "nba_data_final = pd.read_csv('nba_final_data.csv')"
   ]
  },
  {
   "cell_type": "code",
   "execution_count": 4,
   "metadata": {},
   "outputs": [
    {
     "name": "stdout",
     "output_type": "stream",
     "text": [
      "Index(['GAME_ID', 'TEAM_ID_HOME', 'TEAM_ID_AWAY', 'GAME_DATE', 'SEASON',\n",
      "       'PLUS_MINUS_HOME', 'MIN_HOME', 'FGA_HOME', 'FG_PCT_HOME', 'FG3A_HOME',\n",
      "       'FG3_PCT_HOME', 'FTA_HOME', 'FT_PCT_HOME', 'OREB_HOME', 'DREB_HOME',\n",
      "       'AST_HOME', 'STL_HOME', 'BLK_HOME', 'TOV_HOME', 'PF_HOME', 'FGA_AWAY',\n",
      "       'FG_PCT_AWAY', 'FG3A_AWAY', 'FG3_PCT_AWAY', 'FTA_AWAY', 'FT_PCT_AWAY',\n",
      "       'OREB_AWAY', 'DREB_AWAY', 'AST_AWAY', 'STL_AWAY', 'BLK_AWAY',\n",
      "       'TOV_AWAY', 'PF_AWAY', 'PTS_PAINT_HOME', 'PTS_2ND_CHANCE_HOME',\n",
      "       'PTS_FB_HOME', 'TEAM_TURNOVERS_HOME', 'TOTAL_TURNOVERS_HOME',\n",
      "       'TEAM_REBOUNDS_HOME', 'PTS_OFF_TO_HOME', 'PTS_PAINT_AWAY',\n",
      "       'PTS_2ND_CHANCE_AWAY', 'PTS_FB_AWAY', 'TEAM_TURNOVERS_AWAY',\n",
      "       'TOTAL_TURNOVERS_AWAY', 'TEAM_REBOUNDS_AWAY', 'WL_Home_modified',\n",
      "       'cluster_0h', 'cluster_1h', 'cluster_2h', 'cluster_3h', 'cluster_4h',\n",
      "       'cluster_5h', 'cluster_6h', 'cluster_7h', 'cluster_8h', 'cluster_9h',\n",
      "       'cluster_10h', 'cluster_11h', 'cluster_0a', 'cluster_1a', 'cluster_2a',\n",
      "       'cluster_3a', 'cluster_4a', 'cluster_5a', 'cluster_6a', 'cluster_7a',\n",
      "       'cluster_8a', 'cluster_9a', 'cluster_10a', 'cluster_11a'],\n",
      "      dtype='object')\n"
     ]
    }
   ],
   "source": [
    "print(nba_data_final.columns)"
   ]
  },
  {
   "cell_type": "code",
   "execution_count": 5,
   "metadata": {},
   "outputs": [],
   "source": [
    "game_data_regression = nba_data_final.drop(['GAME_ID','TEAM_ID_HOME','TEAM_ID_AWAY','GAME_DATE','SEASON'\n",
    "                                           ], axis = 1)"
   ]
  },
  {
   "cell_type": "markdown",
   "metadata": {},
   "source": [
    "Baseline Team Aggregate Features only - no clusters added"
   ]
  },
  {
   "cell_type": "code",
   "execution_count": 6,
   "metadata": {},
   "outputs": [],
   "source": [
    "base_x = game_data_regression.drop(['PLUS_MINUS_HOME','WL_Home_modified', 'cluster_0h','cluster_1h', 'cluster_2h', 'cluster_3h', 'cluster_4h', 'cluster_5h', 'cluster_6h', 'cluster_7h', 'cluster_8h', 'cluster_9h', 'cluster_10h', 'cluster_11h', 'cluster_0a', 'cluster_1a', 'cluster_2a', 'cluster_3a', 'cluster_4a', 'cluster_5a', 'cluster_6a', 'cluster_7a', 'cluster_8a', 'cluster_9a', 'cluster_10a', 'cluster_11a'], axis=1)\n",
    "\n",
    "base_y = game_data_regression['PLUS_MINUS_HOME']"
   ]
  },
  {
   "cell_type": "code",
   "execution_count": 7,
   "metadata": {},
   "outputs": [
    {
     "name": "stdout",
     "output_type": "stream",
     "text": [
      "Index(['MIN_HOME', 'FGA_HOME', 'FG_PCT_HOME', 'FG3A_HOME', 'FG3_PCT_HOME',\n",
      "       'FTA_HOME', 'FT_PCT_HOME', 'OREB_HOME', 'DREB_HOME', 'AST_HOME',\n",
      "       'STL_HOME', 'BLK_HOME', 'TOV_HOME', 'PF_HOME', 'FGA_AWAY',\n",
      "       'FG_PCT_AWAY', 'FG3A_AWAY', 'FG3_PCT_AWAY', 'FTA_AWAY', 'FT_PCT_AWAY',\n",
      "       'OREB_AWAY', 'DREB_AWAY', 'AST_AWAY', 'STL_AWAY', 'BLK_AWAY',\n",
      "       'TOV_AWAY', 'PF_AWAY', 'PTS_PAINT_HOME', 'PTS_2ND_CHANCE_HOME',\n",
      "       'PTS_FB_HOME', 'TEAM_TURNOVERS_HOME', 'TOTAL_TURNOVERS_HOME',\n",
      "       'TEAM_REBOUNDS_HOME', 'PTS_OFF_TO_HOME', 'PTS_PAINT_AWAY',\n",
      "       'PTS_2ND_CHANCE_AWAY', 'PTS_FB_AWAY', 'TEAM_TURNOVERS_AWAY',\n",
      "       'TOTAL_TURNOVERS_AWAY', 'TEAM_REBOUNDS_AWAY'],\n",
      "      dtype='object')\n"
     ]
    }
   ],
   "source": [
    "print(base_x.columns)"
   ]
  },
  {
   "cell_type": "code",
   "execution_count": 8,
   "metadata": {},
   "outputs": [],
   "source": [
    "X_train_base_raw, X_test_base_raw, y_train_base, y_test_base = train_test_split(base_x, \n",
    "                                                    base_y, \n",
    "                                                    test_size=0.2, random_state=42)"
   ]
  },
  {
   "cell_type": "code",
   "execution_count": 9,
   "metadata": {},
   "outputs": [],
   "source": [
    "X_train_base = preprocessing.normalize(X_train_base_raw)\n",
    "X_test_base = preprocessing.normalize(X_test_base_raw)"
   ]
  },
  {
   "cell_type": "code",
   "execution_count": 10,
   "metadata": {},
   "outputs": [
    {
     "name": "stdout",
     "output_type": "stream",
     "text": [
      "Mean Squared Error for training 12.663492007848715\n",
      "Mean Squared Error for testing 12.722749782531134\n"
     ]
    }
   ],
   "source": [
    "lr = LinearRegression()\n",
    "lr.fit(X_train_base, y_train_base)\n",
    "pred_y_train_base = lr.predict(X_train_base)\n",
    "pred_y_test_base = lr.predict(X_test_base)\n",
    "\n",
    "rmse_train = np.sqrt(metrics.mean_squared_error(y_train_base, pred_y_train_base))\n",
    "rmse_test = np.sqrt(metrics.mean_squared_error(y_test_base, pred_y_test_base))\n",
    "print(\"Mean Squared Error for training {}\".format(rmse_train))\n",
    "print(\"Mean Squared Error for testing {}\".format(rmse_test))"
   ]
  },
  {
   "cell_type": "code",
   "execution_count": 11,
   "metadata": {},
   "outputs": [
    {
     "data": {
      "text/html": [
       "<div>\n",
       "<style scoped>\n",
       "    .dataframe tbody tr th:only-of-type {\n",
       "        vertical-align: middle;\n",
       "    }\n",
       "\n",
       "    .dataframe tbody tr th {\n",
       "        vertical-align: top;\n",
       "    }\n",
       "\n",
       "    .dataframe thead th {\n",
       "        text-align: right;\n",
       "    }\n",
       "</style>\n",
       "<table border=\"1\" class=\"dataframe\">\n",
       "  <thead>\n",
       "    <tr style=\"text-align: right;\">\n",
       "      <th></th>\n",
       "      <th>Accuracy</th>\n",
       "      <th>F1 Score</th>\n",
       "      <th>R Square</th>\n",
       "      <th>RMSE</th>\n",
       "    </tr>\n",
       "  </thead>\n",
       "  <tbody>\n",
       "    <tr>\n",
       "      <th>0</th>\n",
       "      <td>0.631274</td>\n",
       "      <td>0.725789</td>\n",
       "      <td>0.091382</td>\n",
       "      <td>12.663492</td>\n",
       "    </tr>\n",
       "  </tbody>\n",
       "</table>\n",
       "</div>"
      ],
      "text/plain": [
       "   Accuracy  F1 Score  R Square       RMSE\n",
       "0  0.631274  0.725789  0.091382  12.663492"
      ]
     },
     "execution_count": 11,
     "metadata": {},
     "output_type": "execute_result"
    }
   ],
   "source": [
    "model_evaluation(pred_y_train_base, y_train_base)"
   ]
  },
  {
   "cell_type": "code",
   "execution_count": 12,
   "metadata": {},
   "outputs": [
    {
     "data": {
      "text/html": [
       "<div>\n",
       "<style scoped>\n",
       "    .dataframe tbody tr th:only-of-type {\n",
       "        vertical-align: middle;\n",
       "    }\n",
       "\n",
       "    .dataframe tbody tr th {\n",
       "        vertical-align: top;\n",
       "    }\n",
       "\n",
       "    .dataframe thead th {\n",
       "        text-align: right;\n",
       "    }\n",
       "</style>\n",
       "<table border=\"1\" class=\"dataframe\">\n",
       "  <thead>\n",
       "    <tr style=\"text-align: right;\">\n",
       "      <th></th>\n",
       "      <th>Accuracy</th>\n",
       "      <th>F1 Score</th>\n",
       "      <th>R Square</th>\n",
       "      <th>RMSE</th>\n",
       "    </tr>\n",
       "  </thead>\n",
       "  <tbody>\n",
       "    <tr>\n",
       "      <th>0</th>\n",
       "      <td>0.646228</td>\n",
       "      <td>0.740004</td>\n",
       "      <td>0.100825</td>\n",
       "      <td>12.72275</td>\n",
       "    </tr>\n",
       "  </tbody>\n",
       "</table>\n",
       "</div>"
      ],
      "text/plain": [
       "   Accuracy  F1 Score  R Square      RMSE\n",
       "0  0.646228  0.740004  0.100825  12.72275"
      ]
     },
     "execution_count": 12,
     "metadata": {},
     "output_type": "execute_result"
    }
   ],
   "source": [
    "model_evaluation(pred_y_test_base, y_test_base)"
   ]
  },
  {
   "cell_type": "code",
   "execution_count": 13,
   "metadata": {},
   "outputs": [
    {
     "name": "stdout",
     "output_type": "stream",
     "text": [
      "Feature: 0, Score: 86.62261\n",
      "Feature: 1, Score: 127.37790\n",
      "Feature: 2, Score: 17029.75776\n",
      "Feature: 3, Score: 103.69158\n",
      "Feature: 4, Score: 2112.52259\n",
      "Feature: 5, Score: 153.73686\n",
      "Feature: 6, Score: 2674.02812\n",
      "Feature: 7, Score: 35.73425\n",
      "Feature: 8, Score: 50.64020\n",
      "Feature: 9, Score: 83.56063\n",
      "Feature: 10, Score: 78.17098\n",
      "Feature: 11, Score: 103.78397\n",
      "Feature: 12, Score: -26.40375\n",
      "Feature: 13, Score: 31.69104\n",
      "Feature: 14, Score: -75.45037\n",
      "Feature: 15, Score: -16105.37910\n",
      "Feature: 16, Score: -62.70983\n",
      "Feature: 17, Score: -140.50458\n",
      "Feature: 18, Score: -119.13181\n",
      "Feature: 19, Score: -1808.60292\n",
      "Feature: 20, Score: -77.04718\n",
      "Feature: 21, Score: -54.65228\n",
      "Feature: 22, Score: -89.76170\n",
      "Feature: 23, Score: 145.10506\n",
      "Feature: 24, Score: -72.94838\n",
      "Feature: 25, Score: -5.19897\n",
      "Feature: 26, Score: 46.39879\n",
      "Feature: 27, Score: 22.65838\n",
      "Feature: 28, Score: -4.43931\n",
      "Feature: 29, Score: 24.14961\n",
      "Feature: 30, Score: -155.81178\n",
      "Feature: 31, Score: -26.40375\n",
      "Feature: 32, Score: -88.84756\n",
      "Feature: 33, Score: -50.44464\n",
      "Feature: 34, Score: -13.07791\n",
      "Feature: 35, Score: 13.33123\n",
      "Feature: 36, Score: -15.59079\n",
      "Feature: 37, Score: 220.99828\n",
      "Feature: 38, Score: -5.19897\n",
      "Feature: 39, Score: -6.33818\n"
     ]
    },
    {
     "data": {
      "image/png": "[encoded data removed]",
      "text/plain": [
       "<Figure size 432x288 with 1 Axes>"
      ]
     },
     "metadata": {
      "needs_background": "light"
     },
     "output_type": "display_data"
    }
   ],
   "source": [
    "# get importance\n",
    "importance = lr.coef_\n",
    "# summarize feature importance\n",
    "for i,v in enumerate(importance):\n",
    "    print('Feature: %0d, Score: %.5f' % (i,v))\n",
    "# plot feature importance\n",
    "pyplot.bar([x for x in range(len(importance))], importance)\n",
    "pyplot.show()"
   ]
  },
  {
   "cell_type": "code",
   "execution_count": 14,
   "metadata": {},
   "outputs": [
    {
     "data": {
      "text/plain": [
       "<AxesSubplot:title={'center':'Baseline Model Coefficients'}>"
      ]
     },
     "execution_count": 14,
     "metadata": {},
     "output_type": "execute_result"
    },
    {
     "data": {
      "image/png": "[encoded data removed]",
      "text/plain": [
       "<Figure size 720x432 with 1 Axes>"
      ]
     },
     "metadata": {
      "needs_background": "light"
     },
     "output_type": "display_data"
    }
   ],
   "source": [
    "predictors = base_x.columns\n",
    "\n",
    "coef = Series(lr.coef_,predictors).sort_values()\n",
    "\n",
    "coef.nlargest(10).plot(kind='barh', figsize=(10,6), title='Baseline Model Coefficients')"
   ]
  },
  {
   "cell_type": "markdown",
   "metadata": {},
   "source": [
    "Adding cluster data"
   ]
  },
  {
   "cell_type": "code",
   "execution_count": 15,
   "metadata": {},
   "outputs": [],
   "source": [
    "game_regression_x = game_data_regression.drop(['PLUS_MINUS_HOME','WL_Home_modified'], axis = 1)\n",
    "game_regression_y = game_data_regression['PLUS_MINUS_HOME']"
   ]
  },
  {
   "cell_type": "code",
   "execution_count": 16,
   "metadata": {},
   "outputs": [],
   "source": [
    "X_train_raw, X_test_raw, y_train, y_test = train_test_split(game_regression_x, \n",
    "                                                    game_regression_y, \n",
    "                                                    test_size=0.2, random_state=42)"
   ]
  },
  {
   "cell_type": "code",
   "execution_count": 17,
   "metadata": {},
   "outputs": [],
   "source": [
    "X_train = preprocessing.normalize(X_train_raw)\n",
    "X_test = preprocessing.normalize(X_test_raw)\n",
    "\n",
    "#scaler = StandardScaler()\n",
    "#X_train = scaler.fit_transform(X_train_raw)\n",
    "#X_test = scaler.transform(X_test_raw)"
   ]
  },
  {
   "cell_type": "code",
   "execution_count": 18,
   "metadata": {},
   "outputs": [
    {
     "name": "stdout",
     "output_type": "stream",
     "text": [
      "Mean Squared Error for training 12.355500309952523\n",
      "Mean Squared Error for testing 12.470040163297964\n"
     ]
    }
   ],
   "source": [
    "lr = LinearRegression()\n",
    "lr.fit(X_train, y_train)\n",
    "pred_y_train = lr.predict(X_train)\n",
    "pred_y_test = lr.predict(X_test)\n",
    "\n",
    "rmse_train = np.sqrt(metrics.mean_squared_error(y_train, pred_y_train))\n",
    "rmse_test = np.sqrt(metrics.mean_squared_error(y_test, pred_y_test))\n",
    "print(\"Mean Squared Error for training {}\".format(rmse_train))\n",
    "print(\"Mean Squared Error for testing {}\".format(rmse_test))"
   ]
  },
  {
   "cell_type": "code",
   "execution_count": 19,
   "metadata": {},
   "outputs": [
    {
     "data": {
      "text/html": [
       "<div>\n",
       "<style scoped>\n",
       "    .dataframe tbody tr th:only-of-type {\n",
       "        vertical-align: middle;\n",
       "    }\n",
       "\n",
       "    .dataframe tbody tr th {\n",
       "        vertical-align: top;\n",
       "    }\n",
       "\n",
       "    .dataframe thead th {\n",
       "        text-align: right;\n",
       "    }\n",
       "</style>\n",
       "<table border=\"1\" class=\"dataframe\">\n",
       "  <thead>\n",
       "    <tr style=\"text-align: right;\">\n",
       "      <th></th>\n",
       "      <th>Accuracy</th>\n",
       "      <th>F1 Score</th>\n",
       "      <th>R Square</th>\n",
       "      <th>RMSE</th>\n",
       "    </tr>\n",
       "  </thead>\n",
       "  <tbody>\n",
       "    <tr>\n",
       "      <th>0</th>\n",
       "      <td>0.644424</td>\n",
       "      <td>0.728046</td>\n",
       "      <td>0.135042</td>\n",
       "      <td>12.3555</td>\n",
       "    </tr>\n",
       "  </tbody>\n",
       "</table>\n",
       "</div>"
      ],
      "text/plain": [
       "   Accuracy  F1 Score  R Square     RMSE\n",
       "0  0.644424  0.728046  0.135042  12.3555"
      ]
     },
     "execution_count": 19,
     "metadata": {},
     "output_type": "execute_result"
    }
   ],
   "source": [
    "model_evaluation(pred_y_train, y_train)"
   ]
  },
  {
   "cell_type": "code",
   "execution_count": 20,
   "metadata": {},
   "outputs": [
    {
     "data": {
      "text/html": [
       "<div>\n",
       "<style scoped>\n",
       "    .dataframe tbody tr th:only-of-type {\n",
       "        vertical-align: middle;\n",
       "    }\n",
       "\n",
       "    .dataframe tbody tr th {\n",
       "        vertical-align: top;\n",
       "    }\n",
       "\n",
       "    .dataframe thead th {\n",
       "        text-align: right;\n",
       "    }\n",
       "</style>\n",
       "<table border=\"1\" class=\"dataframe\">\n",
       "  <thead>\n",
       "    <tr style=\"text-align: right;\">\n",
       "      <th></th>\n",
       "      <th>Accuracy</th>\n",
       "      <th>F1 Score</th>\n",
       "      <th>R Square</th>\n",
       "      <th>RMSE</th>\n",
       "    </tr>\n",
       "  </thead>\n",
       "  <tbody>\n",
       "    <tr>\n",
       "      <th>0</th>\n",
       "      <td>0.650135</td>\n",
       "      <td>0.736532</td>\n",
       "      <td>0.136191</td>\n",
       "      <td>12.47004</td>\n",
       "    </tr>\n",
       "  </tbody>\n",
       "</table>\n",
       "</div>"
      ],
      "text/plain": [
       "   Accuracy  F1 Score  R Square      RMSE\n",
       "0  0.650135  0.736532  0.136191  12.47004"
      ]
     },
     "execution_count": 20,
     "metadata": {},
     "output_type": "execute_result"
    }
   ],
   "source": [
    "model_evaluation(pred_y_test, y_test)"
   ]
  },
  {
   "cell_type": "code",
   "execution_count": 21,
   "metadata": {},
   "outputs": [
    {
     "data": {
      "text/plain": [
       "<AxesSubplot:title={'center':'Player Cluster Coefficients'}>"
      ]
     },
     "execution_count": 21,
     "metadata": {},
     "output_type": "execute_result"
    },
    {
     "data": {
      "image/png": "[encoded data removed]",
      "text/plain": [
       "<Figure size 720x432 with 1 Axes>"
      ]
     },
     "metadata": {
      "needs_background": "light"
     },
     "output_type": "display_data"
    }
   ],
   "source": [
    "predictors = game_regression_x.columns\n",
    "\n",
    "coef = Series(lr.coef_,predictors).sort_values()\n",
    "\n",
    "coef.plot(kind='barh', figsize=(10,6), title='Player Cluster Coefficients')"
   ]
  },
  {
   "cell_type": "code",
   "execution_count": 27,
   "metadata": {},
   "outputs": [
    {
     "name": "stdout",
     "output_type": "stream",
     "text": [
      "Feature\t\t\tCoef Importance\n"
     ]
    },
    {
     "data": {
      "text/plain": [
       "TOV_HOME               -5.856242e+14\n",
       "TOV_AWAY               -3.954055e+14\n",
       "cluster_3h             -1.912154e+13\n",
       "FG_PCT_AWAY            -9.280403e+03\n",
       "FT_PCT_AWAY            -1.434289e+03\n",
       "cluster_11a            -1.001944e+03\n",
       "cluster_10a            -5.452988e+02\n",
       "cluster_6a             -4.975694e+02\n",
       "cluster_0a             -3.623213e+02\n",
       "cluster_4a             -3.422559e+02\n",
       "FG3_PCT_AWAY           -2.758085e+02\n",
       "cluster_5a             -1.309035e+02\n",
       "AST_AWAY               -1.188573e+02\n",
       "TEAM_TURNOVERS_HOME    -1.151564e+02\n",
       "FTA_AWAY               -1.038496e+02\n",
       "OREB_AWAY              -9.018229e+01\n",
       "TEAM_REBOUNDS_HOME     -8.440163e+01\n",
       "FGA_AWAY               -7.008990e+01\n",
       "BLK_AWAY               -6.229844e+01\n",
       "PTS_OFF_TO_HOME        -5.452400e+01\n",
       "FG3A_AWAY              -5.429712e+01\n",
       "DREB_AWAY              -5.083396e+01\n",
       "TEAM_REBOUNDS_AWAY     -3.764285e+01\n",
       "PTS_PAINT_AWAY         -3.427497e+01\n",
       "cluster_8a             -3.402435e+01\n",
       "MIN_HOME               -2.289176e+01\n",
       "cluster_2a             -2.049150e+01\n",
       "PTS_FB_AWAY            -1.194071e+01\n",
       "OREB_HOME              -7.859653e+00\n",
       "PTS_2ND_CHANCE_AWAY    -6.032671e-01\n",
       "cluster_7a              0.000000e+00\n",
       "PTS_PAINT_HOME          3.894640e+00\n",
       "PTS_FB_HOME             5.636228e+00\n",
       "PTS_2ND_CHANCE_HOME     2.178280e+01\n",
       "cluster_9a              2.463004e+01\n",
       "DREB_HOME               4.693556e+01\n",
       "PF_AWAY                 4.851825e+01\n",
       "PF_HOME                 5.714857e+01\n",
       "FGA_HOME                7.248274e+01\n",
       "FG3A_HOME               7.956073e+01\n",
       "BLK_HOME                8.122189e+01\n",
       "AST_HOME                8.486158e+01\n",
       "FTA_HOME                1.009154e+02\n",
       "STL_AWAY                1.079256e+02\n",
       "STL_HOME                1.258067e+02\n",
       "cluster_8h              2.178355e+02\n",
       "cluster_9h              2.360490e+02\n",
       "TEAM_TURNOVERS_AWAY     2.732593e+02\n",
       "cluster_2h              2.993862e+02\n",
       "cluster_5h              3.709227e+02\n",
       "cluster_4h              4.666064e+02\n",
       "cluster_0h              4.862746e+02\n",
       "cluster_10h             5.456790e+02\n",
       "cluster_6h              5.827284e+02\n",
       "cluster_11h             9.224082e+02\n",
       "FT_PCT_HOME             1.067650e+03\n",
       "FG3_PCT_HOME            2.500119e+03\n",
       "cluster_1h              3.315808e+03\n",
       "FG_PCT_HOME             1.158384e+04\n",
       "cluster_3a              5.343541e+10\n",
       "cluster_1a              1.492424e+12\n",
       "cluster_7h              1.493754e+12\n",
       "TOTAL_TURNOVERS_AWAY    3.954055e+14\n",
       "TOTAL_TURNOVERS_HOME    5.856242e+14\n",
       "dtype: float64"
      ]
     },
     "execution_count": 27,
     "metadata": {},
     "output_type": "execute_result"
    }
   ],
   "source": [
    "predictors = game_regression_x.columns\n",
    "\n",
    "coef = Series(lr.coef_,predictors).sort_values()\n",
    "print('Feature\\t\\t\\tCoef Importance')\n",
    "coef"
   ]
  },
  {
   "cell_type": "markdown",
   "metadata": {},
   "source": [
    "Ridge"
   ]
  },
  {
   "cell_type": "code",
   "execution_count": 44,
   "metadata": {},
   "outputs": [
    {
     "name": "stdout",
     "output_type": "stream",
     "text": [
      "-12.421149515885157\n",
      "0.0001\n"
     ]
    }
   ],
   "source": [
    "# First running Ridge on a short list of alpha values\n",
    "\n",
    "alphas = np.array([1e-5, 1e-4, 1e-3, 1e-2, 1e-1, 0.0, 1.0, 10.0, 100.0])\n",
    "\n",
    "# create and fit a ridge regression model, testing each alpha\n",
    "model = Ridge()\n",
    "grid = GridSearchCV(estimator=model, param_grid=dict(alpha=alphas), scoring='neg_root_mean_squared_error', cv=5)\n",
    "grid.fit(X_train, y_train)\n",
    "#print(grid)\n",
    "# summarize the results of the grid search\n",
    "print(grid.best_score_)\n",
    "print(grid.best_estimator_.alpha)"
   ]
  },
  {
   "cell_type": "code",
   "execution_count": 44,
   "metadata": {},
   "outputs": [
    {
     "name": "stdout",
     "output_type": "stream",
     "text": [
      "GridSearchCV(cv=5, estimator=Ridge(),\n",
      "             param_grid={'alpha': array([1.00000000e-08, 1.45082878e-08, 2.10490414e-08, 3.05385551e-08,\n",
      "       4.43062146e-08, 6.42807312e-08, 9.32603347e-08, 1.35304777e-07,\n",
      "       1.96304065e-07, 2.84803587e-07, 4.13201240e-07, 5.99484250e-07,\n",
      "       8.69749003e-07, 1.26185688e-06, 1.83073828e-06, 2.65608778e-06,\n",
      "       3.85352859e-06, 5.59081018e-06, 8.11130831e-06, 1....\n",
      "       1.91791026e+04, 2.78255940e+04, 4.03701726e+04, 5.85702082e+04,\n",
      "       8.49753436e+04, 1.23284674e+05, 1.78864953e+05, 2.59502421e+05,\n",
      "       3.76493581e+05, 5.46227722e+05, 7.92482898e+05, 1.14975700e+06,\n",
      "       1.66810054e+06, 2.42012826e+06, 3.51119173e+06, 5.09413801e+06,\n",
      "       7.39072203e+06, 1.07226722e+07, 1.55567614e+07, 2.25701972e+07,\n",
      "       3.27454916e+07, 4.75081016e+07, 6.89261210e+07, 1.00000000e+08])},\n",
      "             scoring='neg_root_mean_squared_error')\n",
      "-12.421105307362454\n",
      "7.56463327554629e-05\n"
     ]
    }
   ],
   "source": [
    "# Now testing across a much larger set of alphas\n",
    "\n",
    "alphas = np.logspace(-8, 8, 100)\n",
    "# create and fit a ridge regression model, testing each alpha\n",
    "model = Ridge()\n",
    "grid = GridSearchCV(estimator=model, param_grid=dict(alpha=alphas), scoring='neg_root_mean_squared_error', cv=5)\n",
    "grid.fit(X_train, y_train)\n",
    "#print(grid)\n",
    "# summarize the results of the grid search\n",
    "print(grid.best_score_)\n",
    "print(grid.best_estimator_.alpha)"
   ]
  },
  {
   "cell_type": "code",
   "execution_count": 38,
   "metadata": {},
   "outputs": [],
   "source": [
    "model1 = Ridge(alpha = 0.0001)\n",
    "model1.fit(X_train, y_train)\n",
    "\n",
    "pred_y_train_rr = model1.predict(X_train)\n",
    "pred_y_test_rr = model1.predict(X_test)"
   ]
  },
  {
   "cell_type": "code",
   "execution_count": 39,
   "metadata": {},
   "outputs": [
    {
     "data": {
      "text/html": [
       "<div>\n",
       "<style scoped>\n",
       "    .dataframe tbody tr th:only-of-type {\n",
       "        vertical-align: middle;\n",
       "    }\n",
       "\n",
       "    .dataframe tbody tr th {\n",
       "        vertical-align: top;\n",
       "    }\n",
       "\n",
       "    .dataframe thead th {\n",
       "        text-align: right;\n",
       "    }\n",
       "</style>\n",
       "<table border=\"1\" class=\"dataframe\">\n",
       "  <thead>\n",
       "    <tr style=\"text-align: right;\">\n",
       "      <th></th>\n",
       "      <th>Accuracy</th>\n",
       "      <th>F1 Score</th>\n",
       "      <th>R Square</th>\n",
       "      <th>RMSE</th>\n",
       "    </tr>\n",
       "  </thead>\n",
       "  <tbody>\n",
       "    <tr>\n",
       "      <th>0</th>\n",
       "      <td>0.644875</td>\n",
       "      <td>0.728422</td>\n",
       "      <td>0.134449</td>\n",
       "      <td>12.359737</td>\n",
       "    </tr>\n",
       "  </tbody>\n",
       "</table>\n",
       "</div>"
      ],
      "text/plain": [
       "   Accuracy  F1 Score  R Square       RMSE\n",
       "0  0.644875  0.728422  0.134449  12.359737"
      ]
     },
     "execution_count": 39,
     "metadata": {},
     "output_type": "execute_result"
    }
   ],
   "source": [
    "model_evaluation(pred_y_train_rr, y_train)"
   ]
  },
  {
   "cell_type": "code",
   "execution_count": 40,
   "metadata": {},
   "outputs": [
    {
     "data": {
      "text/html": [
       "<div>\n",
       "<style scoped>\n",
       "    .dataframe tbody tr th:only-of-type {\n",
       "        vertical-align: middle;\n",
       "    }\n",
       "\n",
       "    .dataframe tbody tr th {\n",
       "        vertical-align: top;\n",
       "    }\n",
       "\n",
       "    .dataframe thead th {\n",
       "        text-align: right;\n",
       "    }\n",
       "</style>\n",
       "<table border=\"1\" class=\"dataframe\">\n",
       "  <thead>\n",
       "    <tr style=\"text-align: right;\">\n",
       "      <th></th>\n",
       "      <th>Accuracy</th>\n",
       "      <th>F1 Score</th>\n",
       "      <th>R Square</th>\n",
       "      <th>RMSE</th>\n",
       "    </tr>\n",
       "  </thead>\n",
       "  <tbody>\n",
       "    <tr>\n",
       "      <th>0</th>\n",
       "      <td>0.648332</td>\n",
       "      <td>0.735533</td>\n",
       "      <td>0.134684</td>\n",
       "      <td>12.48091</td>\n",
       "    </tr>\n",
       "  </tbody>\n",
       "</table>\n",
       "</div>"
      ],
      "text/plain": [
       "   Accuracy  F1 Score  R Square      RMSE\n",
       "0  0.648332  0.735533  0.134684  12.48091"
      ]
     },
     "execution_count": 40,
     "metadata": {},
     "output_type": "execute_result"
    }
   ],
   "source": [
    "model_evaluation(pred_y_test_rr, y_test)"
   ]
  },
  {
   "cell_type": "markdown",
   "metadata": {},
   "source": [
    "Lasso"
   ]
  },
  {
   "cell_type": "code",
   "execution_count": 33,
   "metadata": {},
   "outputs": [
    {
     "name": "stderr",
     "output_type": "stream",
     "text": [
      "C:\\Users\\mattk\\anaconda3\\lib\\site-packages\\sklearn\\model_selection\\_validation.py:531: UserWarning: With alpha=0, this algorithm does not converge well. You are advised to use the LinearRegression estimator\n",
      "  estimator.fit(X_train, y_train, **fit_params)\n",
      "C:\\Users\\mattk\\anaconda3\\lib\\site-packages\\sklearn\\linear_model\\_coordinate_descent.py:529: UserWarning: Coordinate descent with no regularization may lead to unexpected results and is discouraged.\n",
      "  model = cd_fast.enet_coordinate_descent(\n",
      "C:\\Users\\mattk\\anaconda3\\lib\\site-packages\\sklearn\\linear_model\\_coordinate_descent.py:529: ConvergenceWarning: Objective did not converge. You might want to increase the number of iterations. Duality gap: 913550.639927609, tolerance: 211.14087228855306\n",
      "  model = cd_fast.enet_coordinate_descent(\n",
      "C:\\Users\\mattk\\anaconda3\\lib\\site-packages\\sklearn\\model_selection\\_validation.py:531: UserWarning: With alpha=0, this algorithm does not converge well. You are advised to use the LinearRegression estimator\n",
      "  estimator.fit(X_train, y_train, **fit_params)\n",
      "C:\\Users\\mattk\\anaconda3\\lib\\site-packages\\sklearn\\linear_model\\_coordinate_descent.py:529: UserWarning: Coordinate descent with no regularization may lead to unexpected results and is discouraged.\n",
      "  model = cd_fast.enet_coordinate_descent(\n",
      "C:\\Users\\mattk\\anaconda3\\lib\\site-packages\\sklearn\\linear_model\\_coordinate_descent.py:529: ConvergenceWarning: Objective did not converge. You might want to increase the number of iterations. Duality gap: 928922.5579287099, tolerance: 214.9643430575269\n",
      "  model = cd_fast.enet_coordinate_descent(\n",
      "C:\\Users\\mattk\\anaconda3\\lib\\site-packages\\sklearn\\model_selection\\_validation.py:531: UserWarning: With alpha=0, this algorithm does not converge well. You are advised to use the LinearRegression estimator\n",
      "  estimator.fit(X_train, y_train, **fit_params)\n",
      "C:\\Users\\mattk\\anaconda3\\lib\\site-packages\\sklearn\\linear_model\\_coordinate_descent.py:529: UserWarning: Coordinate descent with no regularization may lead to unexpected results and is discouraged.\n",
      "  model = cd_fast.enet_coordinate_descent(\n",
      "C:\\Users\\mattk\\anaconda3\\lib\\site-packages\\sklearn\\linear_model\\_coordinate_descent.py:529: ConvergenceWarning: Objective did not converge. You might want to increase the number of iterations. Duality gap: 908888.0340941343, tolerance: 210.3431562494782\n",
      "  model = cd_fast.enet_coordinate_descent(\n",
      "C:\\Users\\mattk\\anaconda3\\lib\\site-packages\\sklearn\\model_selection\\_validation.py:531: UserWarning: With alpha=0, this algorithm does not converge well. You are advised to use the LinearRegression estimator\n",
      "  estimator.fit(X_train, y_train, **fit_params)\n",
      "C:\\Users\\mattk\\anaconda3\\lib\\site-packages\\sklearn\\linear_model\\_coordinate_descent.py:529: UserWarning: Coordinate descent with no regularization may lead to unexpected results and is discouraged.\n",
      "  model = cd_fast.enet_coordinate_descent(\n",
      "C:\\Users\\mattk\\anaconda3\\lib\\site-packages\\sklearn\\linear_model\\_coordinate_descent.py:529: ConvergenceWarning: Objective did not converge. You might want to increase the number of iterations. Duality gap: 910575.3116111634, tolerance: 210.6954069800451\n",
      "  model = cd_fast.enet_coordinate_descent(\n",
      "C:\\Users\\mattk\\anaconda3\\lib\\site-packages\\sklearn\\model_selection\\_validation.py:531: UserWarning: With alpha=0, this algorithm does not converge well. You are advised to use the LinearRegression estimator\n",
      "  estimator.fit(X_train, y_train, **fit_params)\n",
      "C:\\Users\\mattk\\anaconda3\\lib\\site-packages\\sklearn\\linear_model\\_coordinate_descent.py:529: UserWarning: Coordinate descent with no regularization may lead to unexpected results and is discouraged.\n",
      "  model = cd_fast.enet_coordinate_descent(\n",
      "C:\\Users\\mattk\\anaconda3\\lib\\site-packages\\sklearn\\linear_model\\_coordinate_descent.py:529: ConvergenceWarning: Objective did not converge. You might want to increase the number of iterations. Duality gap: 914048.4623069011, tolerance: 211.7846574935293\n",
      "  model = cd_fast.enet_coordinate_descent(\n",
      "C:\\Users\\mattk\\anaconda3\\lib\\site-packages\\sklearn\\model_selection\\_validation.py:531: UserWarning: With alpha=0, this algorithm does not converge well. You are advised to use the LinearRegression estimator\n",
      "  estimator.fit(X_train, y_train, **fit_params)\n",
      "C:\\Users\\mattk\\anaconda3\\lib\\site-packages\\sklearn\\linear_model\\_coordinate_descent.py:529: UserWarning: Coordinate descent with no regularization may lead to unexpected results and is discouraged.\n",
      "  model = cd_fast.enet_coordinate_descent(\n",
      "C:\\Users\\mattk\\anaconda3\\lib\\site-packages\\sklearn\\linear_model\\_coordinate_descent.py:529: ConvergenceWarning: Objective did not converge. You might want to increase the number of iterations. Duality gap: 914135.8859482803, tolerance: 211.0283004926109\n",
      "  model = cd_fast.enet_coordinate_descent(\n",
      "C:\\Users\\mattk\\anaconda3\\lib\\site-packages\\sklearn\\model_selection\\_validation.py:531: UserWarning: With alpha=0, this algorithm does not converge well. You are advised to use the LinearRegression estimator\n",
      "  estimator.fit(X_train, y_train, **fit_params)\n",
      "C:\\Users\\mattk\\anaconda3\\lib\\site-packages\\sklearn\\linear_model\\_coordinate_descent.py:529: UserWarning: Coordinate descent with no regularization may lead to unexpected results and is discouraged.\n",
      "  model = cd_fast.enet_coordinate_descent(\n",
      "C:\\Users\\mattk\\anaconda3\\lib\\site-packages\\sklearn\\linear_model\\_coordinate_descent.py:529: ConvergenceWarning: Objective did not converge. You might want to increase the number of iterations. Duality gap: 910089.6584399537, tolerance: 209.83807918510476\n",
      "  model = cd_fast.enet_coordinate_descent(\n",
      "C:\\Users\\mattk\\anaconda3\\lib\\site-packages\\sklearn\\model_selection\\_validation.py:531: UserWarning: With alpha=0, this algorithm does not converge well. You are advised to use the LinearRegression estimator\n",
      "  estimator.fit(X_train, y_train, **fit_params)\n",
      "C:\\Users\\mattk\\anaconda3\\lib\\site-packages\\sklearn\\linear_model\\_coordinate_descent.py:529: UserWarning: Coordinate descent with no regularization may lead to unexpected results and is discouraged.\n",
      "  model = cd_fast.enet_coordinate_descent(\n",
      "C:\\Users\\mattk\\anaconda3\\lib\\site-packages\\sklearn\\linear_model\\_coordinate_descent.py:529: ConvergenceWarning: Objective did not converge. You might want to increase the number of iterations. Duality gap: 919579.0673587874, tolerance: 212.33395741838524\n",
      "  model = cd_fast.enet_coordinate_descent(\n",
      "C:\\Users\\mattk\\anaconda3\\lib\\site-packages\\sklearn\\model_selection\\_validation.py:531: UserWarning: With alpha=0, this algorithm does not converge well. You are advised to use the LinearRegression estimator\n",
      "  estimator.fit(X_train, y_train, **fit_params)\n",
      "C:\\Users\\mattk\\anaconda3\\lib\\site-packages\\sklearn\\linear_model\\_coordinate_descent.py:529: UserWarning: Coordinate descent with no regularization may lead to unexpected results and is discouraged.\n",
      "  model = cd_fast.enet_coordinate_descent(\n",
      "C:\\Users\\mattk\\anaconda3\\lib\\site-packages\\sklearn\\linear_model\\_coordinate_descent.py:529: ConvergenceWarning: Objective did not converge. You might want to increase the number of iterations. Duality gap: 911597.5414950554, tolerance: 211.47436657204875\n",
      "  model = cd_fast.enet_coordinate_descent(\n",
      "C:\\Users\\mattk\\anaconda3\\lib\\site-packages\\sklearn\\model_selection\\_validation.py:531: UserWarning: With alpha=0, this algorithm does not converge well. You are advised to use the LinearRegression estimator\n",
      "  estimator.fit(X_train, y_train, **fit_params)\n",
      "C:\\Users\\mattk\\anaconda3\\lib\\site-packages\\sklearn\\linear_model\\_coordinate_descent.py:529: UserWarning: Coordinate descent with no regularization may lead to unexpected results and is discouraged.\n",
      "  model = cd_fast.enet_coordinate_descent(\n",
      "C:\\Users\\mattk\\anaconda3\\lib\\site-packages\\sklearn\\linear_model\\_coordinate_descent.py:529: ConvergenceWarning: Objective did not converge. You might want to increase the number of iterations. Duality gap: 905800.9584154264, tolerance: 210.26194233594924\n",
      "  model = cd_fast.enet_coordinate_descent(\n"
     ]
    },
    {
     "name": "stdout",
     "output_type": "stream",
     "text": [
      "{'alpha': 1e-05}\n",
      "-12.407775570247543\n"
     ]
    }
   ],
   "source": [
    "# Lasso with short list of alphas\n",
    "\n",
    "params = {'alpha': [1e-5, 1e-4, 1e-3, 1e-2, 1e-1, 0.0, 1.0, 10.0, 100.0]} # It will check from 1e-08 to 1e+08\n",
    "lasso = Lasso()\n",
    "lasso_model = GridSearchCV(lasso, params,  scoring='neg_root_mean_squared_error', cv = 10)\n",
    "lasso_model.fit(X_train, y_train)\n",
    "print(lasso_model.best_params_)\n",
    "print(lasso_model.best_score_)"
   ]
  },
  {
   "cell_type": "code",
   "execution_count": 39,
   "metadata": {},
   "outputs": [
    {
     "name": "stderr",
     "output_type": "stream",
     "text": [
      "C:\\Users\\mattk\\anaconda3\\lib\\site-packages\\sklearn\\linear_model\\_coordinate_descent.py:529: ConvergenceWarning: Objective did not converge. You might want to increase the number of iterations. Duality gap: 166138.47552769934, tolerance: 211.14087228855306\n",
      "  model = cd_fast.enet_coordinate_descent(\n",
      "C:\\Users\\mattk\\anaconda3\\lib\\site-packages\\sklearn\\linear_model\\_coordinate_descent.py:529: ConvergenceWarning: Objective did not converge. You might want to increase the number of iterations. Duality gap: 520439.0409180252, tolerance: 214.9643430575269\n",
      "  model = cd_fast.enet_coordinate_descent(\n",
      "C:\\Users\\mattk\\anaconda3\\lib\\site-packages\\sklearn\\linear_model\\_coordinate_descent.py:529: ConvergenceWarning: Objective did not converge. You might want to increase the number of iterations. Duality gap: 175866.84913329605, tolerance: 210.3431562494782\n",
      "  model = cd_fast.enet_coordinate_descent(\n",
      "C:\\Users\\mattk\\anaconda3\\lib\\site-packages\\sklearn\\linear_model\\_coordinate_descent.py:529: ConvergenceWarning: Objective did not converge. You might want to increase the number of iterations. Duality gap: 532193.2129254201, tolerance: 210.6954069800451\n",
      "  model = cd_fast.enet_coordinate_descent(\n",
      "C:\\Users\\mattk\\anaconda3\\lib\\site-packages\\sklearn\\linear_model\\_coordinate_descent.py:529: ConvergenceWarning: Objective did not converge. You might want to increase the number of iterations. Duality gap: 512622.49828294985, tolerance: 211.7846574935293\n",
      "  model = cd_fast.enet_coordinate_descent(\n",
      "C:\\Users\\mattk\\anaconda3\\lib\\site-packages\\sklearn\\linear_model\\_coordinate_descent.py:529: ConvergenceWarning: Objective did not converge. You might want to increase the number of iterations. Duality gap: 88497.3685936546, tolerance: 211.0283004926109\n",
      "  model = cd_fast.enet_coordinate_descent(\n",
      "C:\\Users\\mattk\\anaconda3\\lib\\site-packages\\sklearn\\linear_model\\_coordinate_descent.py:529: ConvergenceWarning: Objective did not converge. You might want to increase the number of iterations. Duality gap: 167225.5693530502, tolerance: 209.83807918510476\n",
      "  model = cd_fast.enet_coordinate_descent(\n",
      "C:\\Users\\mattk\\anaconda3\\lib\\site-packages\\sklearn\\linear_model\\_coordinate_descent.py:529: ConvergenceWarning: Objective did not converge. You might want to increase the number of iterations. Duality gap: 81925.19505809317, tolerance: 212.33395741838524\n",
      "  model = cd_fast.enet_coordinate_descent(\n",
      "C:\\Users\\mattk\\anaconda3\\lib\\site-packages\\sklearn\\linear_model\\_coordinate_descent.py:529: ConvergenceWarning: Objective did not converge. You might want to increase the number of iterations. Duality gap: 162199.8995507795, tolerance: 211.47436657204875\n",
      "  model = cd_fast.enet_coordinate_descent(\n",
      "C:\\Users\\mattk\\anaconda3\\lib\\site-packages\\sklearn\\linear_model\\_coordinate_descent.py:529: ConvergenceWarning: Objective did not converge. You might want to increase the number of iterations. Duality gap: 90452.55200218386, tolerance: 210.26194233594924\n",
      "  model = cd_fast.enet_coordinate_descent(\n",
      "C:\\Users\\mattk\\anaconda3\\lib\\site-packages\\sklearn\\linear_model\\_coordinate_descent.py:529: ConvergenceWarning: Objective did not converge. You might want to increase the number of iterations. Duality gap: 172073.35231530247, tolerance: 211.14087228855306\n",
      "  model = cd_fast.enet_coordinate_descent(\n",
      "C:\\Users\\mattk\\anaconda3\\lib\\site-packages\\sklearn\\linear_model\\_coordinate_descent.py:529: ConvergenceWarning: Objective did not converge. You might want to increase the number of iterations. Duality gap: 419450.65673127223, tolerance: 214.9643430575269\n",
      "  model = cd_fast.enet_coordinate_descent(\n",
      "C:\\Users\\mattk\\anaconda3\\lib\\site-packages\\sklearn\\linear_model\\_coordinate_descent.py:529: ConvergenceWarning: Objective did not converge. You might want to increase the number of iterations. Duality gap: 180856.73688925023, tolerance: 210.3431562494782\n",
      "  model = cd_fast.enet_coordinate_descent(\n",
      "C:\\Users\\mattk\\anaconda3\\lib\\site-packages\\sklearn\\linear_model\\_coordinate_descent.py:529: ConvergenceWarning: Objective did not converge. You might want to increase the number of iterations. Duality gap: 434421.04136728344, tolerance: 210.6954069800451\n",
      "  model = cd_fast.enet_coordinate_descent(\n",
      "C:\\Users\\mattk\\anaconda3\\lib\\site-packages\\sklearn\\linear_model\\_coordinate_descent.py:529: ConvergenceWarning: Objective did not converge. You might want to increase the number of iterations. Duality gap: 413412.72881331644, tolerance: 211.7846574935293\n",
      "  model = cd_fast.enet_coordinate_descent(\n",
      "C:\\Users\\mattk\\anaconda3\\lib\\site-packages\\sklearn\\linear_model\\_coordinate_descent.py:529: ConvergenceWarning: Objective did not converge. You might want to increase the number of iterations. Duality gap: 51533.44969341718, tolerance: 211.0283004926109\n",
      "  model = cd_fast.enet_coordinate_descent(\n",
      "C:\\Users\\mattk\\anaconda3\\lib\\site-packages\\sklearn\\linear_model\\_coordinate_descent.py:529: ConvergenceWarning: Objective did not converge. You might want to increase the number of iterations. Duality gap: 173414.1201423416, tolerance: 209.83807918510476\n",
      "  model = cd_fast.enet_coordinate_descent(\n",
      "C:\\Users\\mattk\\anaconda3\\lib\\site-packages\\sklearn\\linear_model\\_coordinate_descent.py:529: ConvergenceWarning: Objective did not converge. You might want to increase the number of iterations. Duality gap: 47501.299754676875, tolerance: 212.33395741838524\n",
      "  model = cd_fast.enet_coordinate_descent(\n",
      "C:\\Users\\mattk\\anaconda3\\lib\\site-packages\\sklearn\\linear_model\\_coordinate_descent.py:529: ConvergenceWarning: Objective did not converge. You might want to increase the number of iterations. Duality gap: 169300.12924641138, tolerance: 211.47436657204875\n",
      "  model = cd_fast.enet_coordinate_descent(\n",
      "C:\\Users\\mattk\\anaconda3\\lib\\site-packages\\sklearn\\linear_model\\_coordinate_descent.py:529: ConvergenceWarning: Objective did not converge. You might want to increase the number of iterations. Duality gap: 52824.86615448259, tolerance: 210.26194233594924\n",
      "  model = cd_fast.enet_coordinate_descent(\n",
      "C:\\Users\\mattk\\anaconda3\\lib\\site-packages\\sklearn\\linear_model\\_coordinate_descent.py:529: ConvergenceWarning: Objective did not converge. You might want to increase the number of iterations. Duality gap: 176133.63526024483, tolerance: 211.14087228855306\n",
      "  model = cd_fast.enet_coordinate_descent(\n",
      "C:\\Users\\mattk\\anaconda3\\lib\\site-packages\\sklearn\\linear_model\\_coordinate_descent.py:529: ConvergenceWarning: Objective did not converge. You might want to increase the number of iterations. Duality gap: 317778.68177311355, tolerance: 214.9643430575269\n",
      "  model = cd_fast.enet_coordinate_descent(\n",
      "C:\\Users\\mattk\\anaconda3\\lib\\site-packages\\sklearn\\linear_model\\_coordinate_descent.py:529: ConvergenceWarning: Objective did not converge. You might want to increase the number of iterations. Duality gap: 184272.51720171992, tolerance: 210.3431562494782\n",
      "  model = cd_fast.enet_coordinate_descent(\n",
      "C:\\Users\\mattk\\anaconda3\\lib\\site-packages\\sklearn\\linear_model\\_coordinate_descent.py:529: ConvergenceWarning: Objective did not converge. You might want to increase the number of iterations. Duality gap: 333850.0037526507, tolerance: 210.6954069800451\n",
      "  model = cd_fast.enet_coordinate_descent(\n",
      "C:\\Users\\mattk\\anaconda3\\lib\\site-packages\\sklearn\\linear_model\\_coordinate_descent.py:529: ConvergenceWarning: Objective did not converge. You might want to increase the number of iterations. Duality gap: 313544.76607016474, tolerance: 211.7846574935293\n",
      "  model = cd_fast.enet_coordinate_descent(\n",
      "C:\\Users\\mattk\\anaconda3\\lib\\site-packages\\sklearn\\linear_model\\_coordinate_descent.py:529: ConvergenceWarning: Objective did not converge. You might want to increase the number of iterations. Duality gap: 28545.740262310486, tolerance: 211.0283004926109\n",
      "  model = cd_fast.enet_coordinate_descent(\n",
      "C:\\Users\\mattk\\anaconda3\\lib\\site-packages\\sklearn\\linear_model\\_coordinate_descent.py:529: ConvergenceWarning: Objective did not converge. You might want to increase the number of iterations. Duality gap: 177645.62695077865, tolerance: 209.83807918510476\n",
      "  model = cd_fast.enet_coordinate_descent(\n",
      "C:\\Users\\mattk\\anaconda3\\lib\\site-packages\\sklearn\\linear_model\\_coordinate_descent.py:529: ConvergenceWarning: Objective did not converge. You might want to increase the number of iterations. Duality gap: 26131.54710654798, tolerance: 212.33395741838524\n",
      "  model = cd_fast.enet_coordinate_descent(\n"
     ]
    },
    {
     "name": "stderr",
     "output_type": "stream",
     "text": [
      "C:\\Users\\mattk\\anaconda3\\lib\\site-packages\\sklearn\\linear_model\\_coordinate_descent.py:529: ConvergenceWarning: Objective did not converge. You might want to increase the number of iterations. Duality gap: 174150.81800389104, tolerance: 211.47436657204875\n",
      "  model = cd_fast.enet_coordinate_descent(\n",
      "C:\\Users\\mattk\\anaconda3\\lib\\site-packages\\sklearn\\linear_model\\_coordinate_descent.py:529: ConvergenceWarning: Objective did not converge. You might want to increase the number of iterations. Duality gap: 29320.428802737035, tolerance: 210.26194233594924\n",
      "  model = cd_fast.enet_coordinate_descent(\n",
      "C:\\Users\\mattk\\anaconda3\\lib\\site-packages\\sklearn\\linear_model\\_coordinate_descent.py:529: ConvergenceWarning: Objective did not converge. You might want to increase the number of iterations. Duality gap: 178918.56937125372, tolerance: 211.14087228855306\n",
      "  model = cd_fast.enet_coordinate_descent(\n",
      "C:\\Users\\mattk\\anaconda3\\lib\\site-packages\\sklearn\\linear_model\\_coordinate_descent.py:529: ConvergenceWarning: Objective did not converge. You might want to increase the number of iterations. Duality gap: 224798.7820991932, tolerance: 214.9643430575269\n",
      "  model = cd_fast.enet_coordinate_descent(\n",
      "C:\\Users\\mattk\\anaconda3\\lib\\site-packages\\sklearn\\linear_model\\_coordinate_descent.py:529: ConvergenceWarning: Objective did not converge. You might want to increase the number of iterations. Duality gap: 186616.139169864, tolerance: 210.3431562494782\n",
      "  model = cd_fast.enet_coordinate_descent(\n",
      "C:\\Users\\mattk\\anaconda3\\lib\\site-packages\\sklearn\\linear_model\\_coordinate_descent.py:529: ConvergenceWarning: Objective did not converge. You might want to increase the number of iterations. Duality gap: 239686.21604012232, tolerance: 210.6954069800451\n",
      "  model = cd_fast.enet_coordinate_descent(\n",
      "C:\\Users\\mattk\\anaconda3\\lib\\site-packages\\sklearn\\linear_model\\_coordinate_descent.py:529: ConvergenceWarning: Objective did not converge. You might want to increase the number of iterations. Duality gap: 222182.40516334062, tolerance: 211.7846574935293\n",
      "  model = cd_fast.enet_coordinate_descent(\n",
      "C:\\Users\\mattk\\anaconda3\\lib\\site-packages\\sklearn\\linear_model\\_coordinate_descent.py:529: ConvergenceWarning: Objective did not converge. You might want to increase the number of iterations. Duality gap: 15189.53322355519, tolerance: 211.0283004926109\n",
      "  model = cd_fast.enet_coordinate_descent(\n",
      "C:\\Users\\mattk\\anaconda3\\lib\\site-packages\\sklearn\\linear_model\\_coordinate_descent.py:529: ConvergenceWarning: Objective did not converge. You might want to increase the number of iterations. Duality gap: 180546.42329216644, tolerance: 209.83807918510476\n",
      "  model = cd_fast.enet_coordinate_descent(\n",
      "C:\\Users\\mattk\\anaconda3\\lib\\site-packages\\sklearn\\linear_model\\_coordinate_descent.py:529: ConvergenceWarning: Objective did not converge. You might want to increase the number of iterations. Duality gap: 13830.969587879255, tolerance: 212.33395741838524\n",
      "  model = cd_fast.enet_coordinate_descent(\n",
      "C:\\Users\\mattk\\anaconda3\\lib\\site-packages\\sklearn\\linear_model\\_coordinate_descent.py:529: ConvergenceWarning: Objective did not converge. You might want to increase the number of iterations. Duality gap: 177473.6829394861, tolerance: 211.47436657204875\n",
      "  model = cd_fast.enet_coordinate_descent(\n",
      "C:\\Users\\mattk\\anaconda3\\lib\\site-packages\\sklearn\\linear_model\\_coordinate_descent.py:529: ConvergenceWarning: Objective did not converge. You might want to increase the number of iterations. Duality gap: 15618.032454545842, tolerance: 210.26194233594924\n",
      "  model = cd_fast.enet_coordinate_descent(\n",
      "C:\\Users\\mattk\\anaconda3\\lib\\site-packages\\sklearn\\linear_model\\_coordinate_descent.py:529: ConvergenceWarning: Objective did not converge. You might want to increase the number of iterations. Duality gap: 7795.322934960714, tolerance: 211.14087228855306\n",
      "  model = cd_fast.enet_coordinate_descent(\n",
      "C:\\Users\\mattk\\anaconda3\\lib\\site-packages\\sklearn\\linear_model\\_coordinate_descent.py:529: ConvergenceWarning: Objective did not converge. You might want to increase the number of iterations. Duality gap: 190348.40383333305, tolerance: 214.9643430575269\n",
      "  model = cd_fast.enet_coordinate_descent(\n",
      "C:\\Users\\mattk\\anaconda3\\lib\\site-packages\\sklearn\\linear_model\\_coordinate_descent.py:529: ConvergenceWarning: Objective did not converge. You might want to increase the number of iterations. Duality gap: 188227.26473947882, tolerance: 210.3431562494782\n",
      "  model = cd_fast.enet_coordinate_descent(\n",
      "C:\\Users\\mattk\\anaconda3\\lib\\site-packages\\sklearn\\linear_model\\_coordinate_descent.py:529: ConvergenceWarning: Objective did not converge. You might want to increase the number of iterations. Duality gap: 160053.57555591036, tolerance: 210.6954069800451\n",
      "  model = cd_fast.enet_coordinate_descent(\n",
      "C:\\Users\\mattk\\anaconda3\\lib\\site-packages\\sklearn\\linear_model\\_coordinate_descent.py:529: ConvergenceWarning: Objective did not converge. You might want to increase the number of iterations. Duality gap: 179480.8500671041, tolerance: 211.7846574935293\n",
      "  model = cd_fast.enet_coordinate_descent(\n",
      "C:\\Users\\mattk\\anaconda3\\lib\\site-packages\\sklearn\\linear_model\\_coordinate_descent.py:529: ConvergenceWarning: Objective did not converge. You might want to increase the number of iterations. Duality gap: 7836.236455080099, tolerance: 211.0283004926109\n",
      "  model = cd_fast.enet_coordinate_descent(\n",
      "C:\\Users\\mattk\\anaconda3\\lib\\site-packages\\sklearn\\linear_model\\_coordinate_descent.py:529: ConvergenceWarning: Objective did not converge. You might want to increase the number of iterations. Duality gap: 8997.481638242258, tolerance: 209.83807918510476\n",
      "  model = cd_fast.enet_coordinate_descent(\n",
      "C:\\Users\\mattk\\anaconda3\\lib\\site-packages\\sklearn\\linear_model\\_coordinate_descent.py:529: ConvergenceWarning: Objective did not converge. You might want to increase the number of iterations. Duality gap: 7117.850444596494, tolerance: 212.33395741838524\n",
      "  model = cd_fast.enet_coordinate_descent(\n",
      "C:\\Users\\mattk\\anaconda3\\lib\\site-packages\\sklearn\\linear_model\\_coordinate_descent.py:529: ConvergenceWarning: Objective did not converge. You might want to increase the number of iterations. Duality gap: 9852.864532598993, tolerance: 211.47436657204875\n",
      "  model = cd_fast.enet_coordinate_descent(\n",
      "C:\\Users\\mattk\\anaconda3\\lib\\site-packages\\sklearn\\linear_model\\_coordinate_descent.py:529: ConvergenceWarning: Objective did not converge. You might want to increase the number of iterations. Duality gap: 8057.225868049543, tolerance: 210.26194233594924\n",
      "  model = cd_fast.enet_coordinate_descent(\n",
      "C:\\Users\\mattk\\anaconda3\\lib\\site-packages\\sklearn\\linear_model\\_coordinate_descent.py:529: ConvergenceWarning: Objective did not converge. You might want to increase the number of iterations. Duality gap: 4553.285046303179, tolerance: 211.14087228855306\n",
      "  model = cd_fast.enet_coordinate_descent(\n",
      "C:\\Users\\mattk\\anaconda3\\lib\\site-packages\\sklearn\\linear_model\\_coordinate_descent.py:529: ConvergenceWarning: Objective did not converge. You might want to increase the number of iterations. Duality gap: 192240.21050417423, tolerance: 214.9643430575269\n",
      "  model = cd_fast.enet_coordinate_descent(\n",
      "C:\\Users\\mattk\\anaconda3\\lib\\site-packages\\sklearn\\linear_model\\_coordinate_descent.py:529: ConvergenceWarning: Objective did not converge. You might want to increase the number of iterations. Duality gap: 189337.00550041848, tolerance: 210.3431562494782\n",
      "  model = cd_fast.enet_coordinate_descent(\n",
      "C:\\Users\\mattk\\anaconda3\\lib\\site-packages\\sklearn\\linear_model\\_coordinate_descent.py:529: ConvergenceWarning: Objective did not converge. You might want to increase the number of iterations. Duality gap: 99355.69503789977, tolerance: 210.6954069800451\n",
      "  model = cd_fast.enet_coordinate_descent(\n",
      "C:\\Users\\mattk\\anaconda3\\lib\\site-packages\\sklearn\\linear_model\\_coordinate_descent.py:529: ConvergenceWarning: Objective did not converge. You might want to increase the number of iterations. Duality gap: 181268.9744659199, tolerance: 211.7846574935293\n",
      "  model = cd_fast.enet_coordinate_descent(\n",
      "C:\\Users\\mattk\\anaconda3\\lib\\site-packages\\sklearn\\linear_model\\_coordinate_descent.py:529: ConvergenceWarning: Objective did not converge. You might want to increase the number of iterations. Duality gap: 3950.872019922128, tolerance: 211.0283004926109\n",
      "  model = cd_fast.enet_coordinate_descent(\n"
     ]
    },
    {
     "name": "stderr",
     "output_type": "stream",
     "text": [
      "C:\\Users\\mattk\\anaconda3\\lib\\site-packages\\sklearn\\linear_model\\_coordinate_descent.py:529: ConvergenceWarning: Objective did not converge. You might want to increase the number of iterations. Duality gap: 5472.431530580623, tolerance: 209.83807918510476\n",
      "  model = cd_fast.enet_coordinate_descent(\n",
      "C:\\Users\\mattk\\anaconda3\\lib\\site-packages\\sklearn\\linear_model\\_coordinate_descent.py:529: ConvergenceWarning: Objective did not converge. You might want to increase the number of iterations. Duality gap: 3641.88624670892, tolerance: 212.33395741838524\n",
      "  model = cd_fast.enet_coordinate_descent(\n",
      "C:\\Users\\mattk\\anaconda3\\lib\\site-packages\\sklearn\\linear_model\\_coordinate_descent.py:529: ConvergenceWarning: Objective did not converge. You might want to increase the number of iterations. Duality gap: 6344.913879753789, tolerance: 211.47436657204875\n",
      "  model = cd_fast.enet_coordinate_descent(\n",
      "C:\\Users\\mattk\\anaconda3\\lib\\site-packages\\sklearn\\linear_model\\_coordinate_descent.py:529: ConvergenceWarning: Objective did not converge. You might want to increase the number of iterations. Duality gap: 4057.6093371631578, tolerance: 210.26194233594924\n",
      "  model = cd_fast.enet_coordinate_descent(\n",
      "C:\\Users\\mattk\\anaconda3\\lib\\site-packages\\sklearn\\linear_model\\_coordinate_descent.py:529: ConvergenceWarning: Objective did not converge. You might want to increase the number of iterations. Duality gap: 2356.6592981945723, tolerance: 211.14087228855306\n",
      "  model = cd_fast.enet_coordinate_descent(\n",
      "C:\\Users\\mattk\\anaconda3\\lib\\site-packages\\sklearn\\linear_model\\_coordinate_descent.py:529: ConvergenceWarning: Objective did not converge. You might want to increase the number of iterations. Duality gap: 36536.66599290306, tolerance: 214.9643430575269\n",
      "  model = cd_fast.enet_coordinate_descent(\n",
      "C:\\Users\\mattk\\anaconda3\\lib\\site-packages\\sklearn\\linear_model\\_coordinate_descent.py:529: ConvergenceWarning: Objective did not converge. You might want to increase the number of iterations. Duality gap: 190103.4207522641, tolerance: 210.3431562494782\n",
      "  model = cd_fast.enet_coordinate_descent(\n",
      "C:\\Users\\mattk\\anaconda3\\lib\\site-packages\\sklearn\\linear_model\\_coordinate_descent.py:529: ConvergenceWarning: Objective did not converge. You might want to increase the number of iterations. Duality gap: 57496.977801206056, tolerance: 210.6954069800451\n",
      "  model = cd_fast.enet_coordinate_descent(\n",
      "C:\\Users\\mattk\\anaconda3\\lib\\site-packages\\sklearn\\linear_model\\_coordinate_descent.py:529: ConvergenceWarning: Objective did not converge. You might want to increase the number of iterations. Duality gap: 182502.21085671335, tolerance: 211.7846574935293\n",
      "  model = cd_fast.enet_coordinate_descent(\n",
      "C:\\Users\\mattk\\anaconda3\\lib\\site-packages\\sklearn\\linear_model\\_coordinate_descent.py:529: ConvergenceWarning: Objective did not converge. You might want to increase the number of iterations. Duality gap: 1959.4743895097636, tolerance: 211.0283004926109\n",
      "  model = cd_fast.enet_coordinate_descent(\n",
      "C:\\Users\\mattk\\anaconda3\\lib\\site-packages\\sklearn\\linear_model\\_coordinate_descent.py:529: ConvergenceWarning: Objective did not converge. You might want to increase the number of iterations. Duality gap: 2806.288560591638, tolerance: 209.83807918510476\n",
      "  model = cd_fast.enet_coordinate_descent(\n",
      "C:\\Users\\mattk\\anaconda3\\lib\\site-packages\\sklearn\\linear_model\\_coordinate_descent.py:529: ConvergenceWarning: Objective did not converge. You might want to increase the number of iterations. Duality gap: 1903.4942081074696, tolerance: 212.33395741838524\n",
      "  model = cd_fast.enet_coordinate_descent(\n",
      "C:\\Users\\mattk\\anaconda3\\lib\\site-packages\\sklearn\\linear_model\\_coordinate_descent.py:529: ConvergenceWarning: Objective did not converge. You might want to increase the number of iterations. Duality gap: 3292.1960153260734, tolerance: 211.47436657204875\n",
      "  model = cd_fast.enet_coordinate_descent(\n",
      "C:\\Users\\mattk\\anaconda3\\lib\\site-packages\\sklearn\\linear_model\\_coordinate_descent.py:529: ConvergenceWarning: Objective did not converge. You might want to increase the number of iterations. Duality gap: 2007.354209387675, tolerance: 210.26194233594924\n",
      "  model = cd_fast.enet_coordinate_descent(\n",
      "C:\\Users\\mattk\\anaconda3\\lib\\site-packages\\sklearn\\linear_model\\_coordinate_descent.py:529: ConvergenceWarning: Objective did not converge. You might want to increase the number of iterations. Duality gap: 1164.1260733827949, tolerance: 211.14087228855306\n",
      "  model = cd_fast.enet_coordinate_descent(\n",
      "C:\\Users\\mattk\\anaconda3\\lib\\site-packages\\sklearn\\linear_model\\_coordinate_descent.py:529: ConvergenceWarning: Objective did not converge. You might want to increase the number of iterations. Duality gap: 26176.738682268886, tolerance: 214.9643430575269\n",
      "  model = cd_fast.enet_coordinate_descent(\n",
      "C:\\Users\\mattk\\anaconda3\\lib\\site-packages\\sklearn\\linear_model\\_coordinate_descent.py:529: ConvergenceWarning: Objective did not converge. You might want to increase the number of iterations. Duality gap: 190635.03189118905, tolerance: 210.3431562494782\n",
      "  model = cd_fast.enet_coordinate_descent(\n",
      "C:\\Users\\mattk\\anaconda3\\lib\\site-packages\\sklearn\\linear_model\\_coordinate_descent.py:529: ConvergenceWarning: Objective did not converge. You might want to increase the number of iterations. Duality gap: 31130.827430846868, tolerance: 210.6954069800451\n",
      "  model = cd_fast.enet_coordinate_descent(\n",
      "C:\\Users\\mattk\\anaconda3\\lib\\site-packages\\sklearn\\linear_model\\_coordinate_descent.py:529: ConvergenceWarning: Objective did not converge. You might want to increase the number of iterations. Duality gap: 183355.24589145777, tolerance: 211.7846574935293\n",
      "  model = cd_fast.enet_coordinate_descent(\n",
      "C:\\Users\\mattk\\anaconda3\\lib\\site-packages\\sklearn\\linear_model\\_coordinate_descent.py:529: ConvergenceWarning: Objective did not converge. You might want to increase the number of iterations. Duality gap: 961.0328002551105, tolerance: 211.0283004926109\n",
      "  model = cd_fast.enet_coordinate_descent(\n",
      "C:\\Users\\mattk\\anaconda3\\lib\\site-packages\\sklearn\\linear_model\\_coordinate_descent.py:529: ConvergenceWarning: Objective did not converge. You might want to increase the number of iterations. Duality gap: 1391.5668585964013, tolerance: 209.83807918510476\n",
      "  model = cd_fast.enet_coordinate_descent(\n",
      "C:\\Users\\mattk\\anaconda3\\lib\\site-packages\\sklearn\\linear_model\\_coordinate_descent.py:529: ConvergenceWarning: Objective did not converge. You might want to increase the number of iterations. Duality gap: 929.1287481486797, tolerance: 212.33395741838524\n",
      "  model = cd_fast.enet_coordinate_descent(\n",
      "C:\\Users\\mattk\\anaconda3\\lib\\site-packages\\sklearn\\linear_model\\_coordinate_descent.py:529: ConvergenceWarning: Objective did not converge. You might want to increase the number of iterations. Duality gap: 1636.7594964746386, tolerance: 211.47436657204875\n",
      "  model = cd_fast.enet_coordinate_descent(\n",
      "C:\\Users\\mattk\\anaconda3\\lib\\site-packages\\sklearn\\linear_model\\_coordinate_descent.py:529: ConvergenceWarning: Objective did not converge. You might want to increase the number of iterations. Duality gap: 980.6717424199451, tolerance: 210.26194233594924\n",
      "  model = cd_fast.enet_coordinate_descent(\n",
      "C:\\Users\\mattk\\anaconda3\\lib\\site-packages\\sklearn\\linear_model\\_coordinate_descent.py:529: ConvergenceWarning: Objective did not converge. You might want to increase the number of iterations. Duality gap: 569.374131903518, tolerance: 211.14087228855306\n",
      "  model = cd_fast.enet_coordinate_descent(\n",
      "C:\\Users\\mattk\\anaconda3\\lib\\site-packages\\sklearn\\linear_model\\_coordinate_descent.py:529: ConvergenceWarning: Objective did not converge. You might want to increase the number of iterations. Duality gap: 13804.273254682776, tolerance: 214.9643430575269\n",
      "  model = cd_fast.enet_coordinate_descent(\n",
      "C:\\Users\\mattk\\anaconda3\\lib\\site-packages\\sklearn\\linear_model\\_coordinate_descent.py:529: ConvergenceWarning: Objective did not converge. You might want to increase the number of iterations. Duality gap: 15827.391254388262, tolerance: 210.6954069800451\n",
      "  model = cd_fast.enet_coordinate_descent(\n",
      "C:\\Users\\mattk\\anaconda3\\lib\\site-packages\\sklearn\\linear_model\\_coordinate_descent.py:529: ConvergenceWarning: Objective did not converge. You might want to increase the number of iterations. Duality gap: 183949.397998019, tolerance: 211.7846574935293\n",
      "  model = cd_fast.enet_coordinate_descent(\n"
     ]
    },
    {
     "name": "stderr",
     "output_type": "stream",
     "text": [
      "C:\\Users\\mattk\\anaconda3\\lib\\site-packages\\sklearn\\linear_model\\_coordinate_descent.py:529: ConvergenceWarning: Objective did not converge. You might want to increase the number of iterations. Duality gap: 468.17918661329895, tolerance: 211.0283004926109\n",
      "  model = cd_fast.enet_coordinate_descent(\n",
      "C:\\Users\\mattk\\anaconda3\\lib\\site-packages\\sklearn\\linear_model\\_coordinate_descent.py:529: ConvergenceWarning: Objective did not converge. You might want to increase the number of iterations. Duality gap: 678.2540627839044, tolerance: 209.83807918510476\n",
      "  model = cd_fast.enet_coordinate_descent(\n",
      "C:\\Users\\mattk\\anaconda3\\lib\\site-packages\\sklearn\\linear_model\\_coordinate_descent.py:529: ConvergenceWarning: Objective did not converge. You might want to increase the number of iterations. Duality gap: 450.49398709461093, tolerance: 212.33395741838524\n",
      "  model = cd_fast.enet_coordinate_descent(\n",
      "C:\\Users\\mattk\\anaconda3\\lib\\site-packages\\sklearn\\linear_model\\_coordinate_descent.py:529: ConvergenceWarning: Objective did not converge. You might want to increase the number of iterations. Duality gap: 801.6655383554753, tolerance: 211.47436657204875\n",
      "  model = cd_fast.enet_coordinate_descent(\n",
      "C:\\Users\\mattk\\anaconda3\\lib\\site-packages\\sklearn\\linear_model\\_coordinate_descent.py:529: ConvergenceWarning: Objective did not converge. You might want to increase the number of iterations. Duality gap: 475.01952461665496, tolerance: 210.26194233594924\n",
      "  model = cd_fast.enet_coordinate_descent(\n",
      "C:\\Users\\mattk\\anaconda3\\lib\\site-packages\\sklearn\\linear_model\\_coordinate_descent.py:529: ConvergenceWarning: Objective did not converge. You might want to increase the number of iterations. Duality gap: 277.8897882909514, tolerance: 211.14087228855306\n",
      "  model = cd_fast.enet_coordinate_descent(\n",
      "C:\\Users\\mattk\\anaconda3\\lib\\site-packages\\sklearn\\linear_model\\_coordinate_descent.py:529: ConvergenceWarning: Objective did not converge. You might want to increase the number of iterations. Duality gap: 6716.75627441518, tolerance: 214.9643430575269\n",
      "  model = cd_fast.enet_coordinate_descent(\n",
      "C:\\Users\\mattk\\anaconda3\\lib\\site-packages\\sklearn\\linear_model\\_coordinate_descent.py:529: ConvergenceWarning: Objective did not converge. You might want to increase the number of iterations. Duality gap: 7524.248904296663, tolerance: 210.6954069800451\n",
      "  model = cd_fast.enet_coordinate_descent(\n",
      "C:\\Users\\mattk\\anaconda3\\lib\\site-packages\\sklearn\\linear_model\\_coordinate_descent.py:529: ConvergenceWarning: Objective did not converge. You might want to increase the number of iterations. Duality gap: 4761.329565892229, tolerance: 211.7846574935293\n",
      "  model = cd_fast.enet_coordinate_descent(\n",
      "C:\\Users\\mattk\\anaconda3\\lib\\site-packages\\sklearn\\linear_model\\_coordinate_descent.py:529: ConvergenceWarning: Objective did not converge. You might want to increase the number of iterations. Duality gap: 227.4940120887477, tolerance: 211.0283004926109\n",
      "  model = cd_fast.enet_coordinate_descent(\n",
      "C:\\Users\\mattk\\anaconda3\\lib\\site-packages\\sklearn\\linear_model\\_coordinate_descent.py:529: ConvergenceWarning: Objective did not converge. You might want to increase the number of iterations. Duality gap: 337.554746971, tolerance: 209.83807918510476\n",
      "  model = cd_fast.enet_coordinate_descent(\n",
      "C:\\Users\\mattk\\anaconda3\\lib\\site-packages\\sklearn\\linear_model\\_coordinate_descent.py:529: ConvergenceWarning: Objective did not converge. You might want to increase the number of iterations. Duality gap: 218.16502862866037, tolerance: 212.33395741838524\n",
      "  model = cd_fast.enet_coordinate_descent(\n",
      "C:\\Users\\mattk\\anaconda3\\lib\\site-packages\\sklearn\\linear_model\\_coordinate_descent.py:529: ConvergenceWarning: Objective did not converge. You might want to increase the number of iterations. Duality gap: 390.48006218043156, tolerance: 211.47436657204875\n",
      "  model = cd_fast.enet_coordinate_descent(\n",
      "C:\\Users\\mattk\\anaconda3\\lib\\site-packages\\sklearn\\linear_model\\_coordinate_descent.py:529: ConvergenceWarning: Objective did not converge. You might want to increase the number of iterations. Duality gap: 229.0235480030533, tolerance: 210.26194233594924\n",
      "  model = cd_fast.enet_coordinate_descent(\n",
      "C:\\Users\\mattk\\anaconda3\\lib\\site-packages\\sklearn\\linear_model\\_coordinate_descent.py:529: ConvergenceWarning: Objective did not converge. You might want to increase the number of iterations. Duality gap: 3067.1395974031184, tolerance: 214.9643430575269\n",
      "  model = cd_fast.enet_coordinate_descent(\n",
      "C:\\Users\\mattk\\anaconda3\\lib\\site-packages\\sklearn\\linear_model\\_coordinate_descent.py:529: ConvergenceWarning: Objective did not converge. You might want to increase the number of iterations. Duality gap: 3345.2339814871084, tolerance: 210.6954069800451\n",
      "  model = cd_fast.enet_coordinate_descent(\n",
      "C:\\Users\\mattk\\anaconda3\\lib\\site-packages\\sklearn\\linear_model\\_coordinate_descent.py:529: ConvergenceWarning: Objective did not converge. You might want to increase the number of iterations. Duality gap: 2480.945550268749, tolerance: 211.7846574935293\n",
      "  model = cd_fast.enet_coordinate_descent(\n",
      "C:\\Users\\mattk\\anaconda3\\lib\\site-packages\\sklearn\\linear_model\\_coordinate_descent.py:529: ConvergenceWarning: Objective did not converge. You might want to increase the number of iterations. Duality gap: 1294.991917785257, tolerance: 214.9643430575269\n",
      "  model = cd_fast.enet_coordinate_descent(\n",
      "C:\\Users\\mattk\\anaconda3\\lib\\site-packages\\sklearn\\linear_model\\_coordinate_descent.py:529: ConvergenceWarning: Objective did not converge. You might want to increase the number of iterations. Duality gap: 1197.8862878135405, tolerance: 210.6954069800451\n",
      "  model = cd_fast.enet_coordinate_descent(\n",
      "C:\\Users\\mattk\\anaconda3\\lib\\site-packages\\sklearn\\linear_model\\_coordinate_descent.py:529: ConvergenceWarning: Objective did not converge. You might want to increase the number of iterations. Duality gap: 1384.2677741288207, tolerance: 211.7846574935293\n",
      "  model = cd_fast.enet_coordinate_descent(\n",
      "C:\\Users\\mattk\\anaconda3\\lib\\site-packages\\sklearn\\linear_model\\_coordinate_descent.py:529: ConvergenceWarning: Objective did not converge. You might want to increase the number of iterations. Duality gap: 484.5330414280761, tolerance: 214.9643430575269\n",
      "  model = cd_fast.enet_coordinate_descent(\n",
      "C:\\Users\\mattk\\anaconda3\\lib\\site-packages\\sklearn\\linear_model\\_coordinate_descent.py:529: ConvergenceWarning: Objective did not converge. You might want to increase the number of iterations. Duality gap: 338.6985058672726, tolerance: 210.6954069800451\n",
      "  model = cd_fast.enet_coordinate_descent(\n",
      "C:\\Users\\mattk\\anaconda3\\lib\\site-packages\\sklearn\\linear_model\\_coordinate_descent.py:529: ConvergenceWarning: Objective did not converge. You might want to increase the number of iterations. Duality gap: 646.6094888488296, tolerance: 211.7846574935293\n",
      "  model = cd_fast.enet_coordinate_descent(\n",
      "C:\\Users\\mattk\\anaconda3\\lib\\site-packages\\sklearn\\linear_model\\_coordinate_descent.py:529: ConvergenceWarning: Objective did not converge. You might want to increase the number of iterations. Duality gap: 257.2437059227377, tolerance: 211.7846574935293\n",
      "  model = cd_fast.enet_coordinate_descent(\n"
     ]
    },
    {
     "name": "stdout",
     "output_type": "stream",
     "text": [
      "{'alpha': 8.111308307896873e-06}\n",
      "-12.407884975691559\n"
     ]
    }
   ],
   "source": [
    "# Test for more values\n",
    "\n",
    "params = {'alpha': (np.logspace(-8, 8, 100))} # It will check from 1e-08 to 1e+08\n",
    "lasso = Lasso()\n",
    "lasso_model = GridSearchCV(lasso, params,  scoring='neg_root_mean_squared_error', cv = 10)\n",
    "lasso_model.fit(X_train, y_train)\n",
    "print(lasso_model.best_params_)\n",
    "print(lasso_model.best_score_)"
   ]
  },
  {
   "cell_type": "code",
   "execution_count": 41,
   "metadata": {},
   "outputs": [],
   "source": [
    "model2 = Lasso(alpha = 8.1113e-06)\n",
    "model2.fit(X_train, y_train)\n",
    "\n",
    "pred_y_train_l = model2.predict(X_train)\n",
    "pred_y_test_l = model2.predict(X_test)"
   ]
  },
  {
   "cell_type": "code",
   "execution_count": 42,
   "metadata": {},
   "outputs": [
    {
     "data": {
      "text/html": [
       "<div>\n",
       "<style scoped>\n",
       "    .dataframe tbody tr th:only-of-type {\n",
       "        vertical-align: middle;\n",
       "    }\n",
       "\n",
       "    .dataframe tbody tr th {\n",
       "        vertical-align: top;\n",
       "    }\n",
       "\n",
       "    .dataframe thead th {\n",
       "        text-align: right;\n",
       "    }\n",
       "</style>\n",
       "<table border=\"1\" class=\"dataframe\">\n",
       "  <thead>\n",
       "    <tr style=\"text-align: right;\">\n",
       "      <th></th>\n",
       "      <th>Accuracy</th>\n",
       "      <th>F1 Score</th>\n",
       "      <th>R Square</th>\n",
       "      <th>RMSE</th>\n",
       "    </tr>\n",
       "  </thead>\n",
       "  <tbody>\n",
       "    <tr>\n",
       "      <th>0</th>\n",
       "      <td>0.644424</td>\n",
       "      <td>0.728296</td>\n",
       "      <td>0.134394</td>\n",
       "      <td>12.360127</td>\n",
       "    </tr>\n",
       "  </tbody>\n",
       "</table>\n",
       "</div>"
      ],
      "text/plain": [
       "   Accuracy  F1 Score  R Square       RMSE\n",
       "0  0.644424  0.728296  0.134394  12.360127"
      ]
     },
     "execution_count": 42,
     "metadata": {},
     "output_type": "execute_result"
    }
   ],
   "source": [
    "model_evaluation(pred_y_train_l, y_train)"
   ]
  },
  {
   "cell_type": "code",
   "execution_count": 43,
   "metadata": {},
   "outputs": [
    {
     "data": {
      "text/html": [
       "<div>\n",
       "<style scoped>\n",
       "    .dataframe tbody tr th:only-of-type {\n",
       "        vertical-align: middle;\n",
       "    }\n",
       "\n",
       "    .dataframe tbody tr th {\n",
       "        vertical-align: top;\n",
       "    }\n",
       "\n",
       "    .dataframe thead th {\n",
       "        text-align: right;\n",
       "    }\n",
       "</style>\n",
       "<table border=\"1\" class=\"dataframe\">\n",
       "  <thead>\n",
       "    <tr style=\"text-align: right;\">\n",
       "      <th></th>\n",
       "      <th>Accuracy</th>\n",
       "      <th>F1 Score</th>\n",
       "      <th>R Square</th>\n",
       "      <th>RMSE</th>\n",
       "    </tr>\n",
       "  </thead>\n",
       "  <tbody>\n",
       "    <tr>\n",
       "      <th>0</th>\n",
       "      <td>0.649234</td>\n",
       "      <td>0.736152</td>\n",
       "      <td>0.134952</td>\n",
       "      <td>12.478983</td>\n",
       "    </tr>\n",
       "  </tbody>\n",
       "</table>\n",
       "</div>"
      ],
      "text/plain": [
       "   Accuracy  F1 Score  R Square       RMSE\n",
       "0  0.649234  0.736152  0.134952  12.478983"
      ]
     },
     "execution_count": 43,
     "metadata": {},
     "output_type": "execute_result"
    }
   ],
   "source": [
    "model_evaluation(pred_y_test_l, y_test)"
   ]
  },
  {
   "cell_type": "code",
   "execution_count": 31,
   "metadata": {},
   "outputs": [
    {
     "data": {
      "text/plain": [
       "array([1.00000000e-04, 1.48735211e-04, 2.21221629e-04, 3.29034456e-04,\n",
       "       4.89390092e-04, 7.27895384e-04, 1.08263673e-03, 1.61026203e-03,\n",
       "       2.39502662e-03, 3.56224789e-03, 5.29831691e-03, 7.88046282e-03,\n",
       "       1.17210230e-02, 1.74332882e-02, 2.59294380e-02, 3.85662042e-02,\n",
       "       5.73615251e-02, 8.53167852e-02, 1.26896100e-01, 1.88739182e-01,\n",
       "       2.80721620e-01, 4.17531894e-01, 6.21016942e-01, 9.23670857e-01,\n",
       "       1.37382380e+00, 2.04335972e+00, 3.03919538e+00, 4.52035366e+00,\n",
       "       6.72335754e+00, 1.00000000e+01])"
      ]
     },
     "execution_count": 31,
     "metadata": {},
     "output_type": "execute_result"
    }
   ],
   "source": [
    "alpha_space = np.logspace(-4, 1, 30)   # Checking for alpha from .0001 to 1 and finding the best value for alpha -4, 1, 30\n",
    "alpha_space"
   ]
  },
  {
   "cell_type": "code",
   "execution_count": 37,
   "metadata": {},
   "outputs": [
    {
     "data": {
      "image/png": "[encoded data removed]",
      "text/plain": [
       "<Figure size 576x432 with 1 Axes>"
      ]
     },
     "metadata": {
      "needs_background": "light"
     },
     "output_type": "display_data"
    }
   ],
   "source": [
    "ridge_scores = []\n",
    "ridge = Ridge(normalize = True)\n",
    "for alpha in alpha_space:\n",
    "    ridge.alpha = alpha\n",
    "    val = np.mean(cross_val_score(ridge, X_train, y_train, cv = 10))\n",
    "    ridge_scores.append(val)\n",
    "lasso_scores = []\n",
    "lasso = Lasso(normalize = True)\n",
    "for alpha in alpha_space:\n",
    "    lasso.alpha = alpha\n",
    "    val = np.mean(cross_val_score(lasso, X_train, y_train, cv = 10))\n",
    "    lasso_scores.append(val)\n",
    "plt.figure(figsize=(8, 6))\n",
    "plt.plot(np.log(alpha_space), ridge_scores, marker = 'D', label = \"Ridge\")\n",
    "plt.plot(np.log(alpha_space), lasso_scores, marker = 'D', label = \"Lasso\")\n",
    "plt.legend()\n",
    "plt.title('Ridge and Lasso Regularization')\n",
    "plt.xlabel('Log Alpha values')\n",
    "plt.ylabel('Accuracy')\n",
    "plt.show()\n"
   ]
  },
  {
   "cell_type": "code",
   "execution_count": 50,
   "metadata": {},
   "outputs": [
    {
     "name": "stdout",
     "output_type": "stream",
     "text": [
      "training score: 0.07499559337966433\n",
      "test score:  0.07537843193185867\n",
      "number of features used:  13\n"
     ]
    }
   ],
   "source": [
    "# Exploring Number of features used in different Lasso Regressions\n",
    "\n",
    "lasso = Lasso()\n",
    "lasso.fit(X_train,y_train)\n",
    "train_score=lasso.score(X_train,y_train)\n",
    "test_score=lasso.score(X_test,y_test)\n",
    "coeff_used = np.sum(lasso.coef_!=0)\n",
    "print(\"training score:\", train_score) \n",
    "print(\"test score: \", test_score)\n",
    "print(\"number of features used: \", coeff_used)\n"
   ]
  },
  {
   "cell_type": "code",
   "execution_count": 51,
   "metadata": {},
   "outputs": [
    {
     "name": "stdout",
     "output_type": "stream",
     "text": [
      "training score for alpha=0.01: 0.13396583709716026\n",
      "test score for alpha =0.01:  0.13403678500703342\n",
      "number of features used: for alpha =0.01: 51\n"
     ]
    }
   ],
   "source": [
    "lasso001 = Lasso(alpha=0.01, max_iter=10e5)\n",
    "lasso001.fit(X_train,y_train)\n",
    "train_score001=lasso001.score(X_train,y_train)\n",
    "test_score001=lasso001.score(X_test,y_test)\n",
    "coeff_used001 = np.sum(lasso001.coef_!=0)\n",
    "print(\"training score for alpha=0.01:\", train_score001 )\n",
    "print( \"test score for alpha =0.01: \", test_score001)\n",
    "print(\"number of features used: for alpha =0.01:\", coeff_used001)\n"
   ]
  },
  {
   "cell_type": "code",
   "execution_count": 52,
   "metadata": {},
   "outputs": [
    {
     "name": "stdout",
     "output_type": "stream",
     "text": [
      "training score for alpha=0.0001: 0.13545060327722525\n",
      "test score for alpha =0.0001:  0.1368150347206687\n",
      "number of features used: for alpha =0.0001: 57\n"
     ]
    }
   ],
   "source": [
    "lasso00001 = Lasso(alpha=0.0001, max_iter=10e5)\n",
    "lasso00001.fit(X_train,y_train)\n",
    "train_score00001=lasso00001.score(X_train,y_train)\n",
    "test_score00001=lasso00001.score(X_test,y_test)\n",
    "coeff_used00001 = np.sum(lasso00001.coef_!=0)\n",
    "print(\"training score for alpha=0.0001:\", train_score00001 )\n",
    "print(\"test score for alpha =0.0001: \", test_score00001)\n",
    "print(\"number of features used: for alpha =0.0001:\", coeff_used00001)"
   ]
  }
 ],
 "metadata": {
  "kernelspec": {
   "display_name": "Python 3",
   "language": "python",
   "name": "python3"
  },
  "language_info": {
   "codemirror_mode": {
    "name": "ipython",
    "version": 3
   },
   "file_extension": ".py",
   "mimetype": "text/x-python",
   "name": "python",
   "nbconvert_exporter": "python",
   "pygments_lexer": "ipython3",
   "version": "3.8.5"
  }
 },
 "nbformat": 4,
 "nbformat_minor": 4
}
